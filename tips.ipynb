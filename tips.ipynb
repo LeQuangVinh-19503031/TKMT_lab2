{
 "cells": [
  {
   "cell_type": "code",
   "execution_count": null,
   "metadata": {},
   "outputs": [],
   "source": []
  }
 ],
 "metadata": {
  "kernelspec": {
   "display_name": "Python 3.10.6 64-bit",
   "language": "python",
   "name": "python3"
  },
  "language_info": {
   "name": "python",
   "version": "3.10.6"
  },
  "orig_nbformat": 4,
  "vscode": {
   "interpreter": {
    "hash": "4d72867c756f6fadee6f5f2e9a3a15bbf18186efdf4c9cb17677fbe9cfa40642"
   }
  }
 },
 "nbformat": 4,
 "nbformat_minor": 2
}
